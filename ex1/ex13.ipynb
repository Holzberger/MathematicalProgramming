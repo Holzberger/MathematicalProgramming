{
 "cells": [
  {
   "cell_type": "code",
   "execution_count": 1,
   "metadata": {},
   "outputs": [],
   "source": [
    "import pip\n",
    "import numpy as np"
   ]
  },
  {
   "cell_type": "code",
   "execution_count": 2,
   "metadata": {},
   "outputs": [
    {
     "name": "stderr",
     "output_type": "stream",
     "text": [
      "WARNING: pip is being invoked by an old script wrapper. This will fail in a future version of pip.\n",
      "Please see https://github.com/pypa/pip/issues/5599 for advice on fixing the underlying issue.\n",
      "To avoid this problem you can invoke Python with '-m pip' instead of running pip directly.\n"
     ]
    },
    {
     "name": "stdout",
     "output_type": "stream",
     "text": [
      "Defaulting to user installation because normal site-packages is not writeable\n",
      "Requirement already satisfied: mip in /home/fabian/.local/lib/python3.8/site-packages (1.13.0)\n",
      "Requirement already satisfied: cffi in /home/anaconda3/lib/python3.8/site-packages (from mip) (1.14.3)\n",
      "Requirement already satisfied: pycparser in /home/anaconda3/lib/python3.8/site-packages (from cffi->mip) (2.20)\n"
     ]
    },
    {
     "data": {
      "text/plain": [
       "0"
      ]
     },
     "execution_count": 2,
     "metadata": {},
     "output_type": "execute_result"
    }
   ],
   "source": [
    "pip.main(['install', 'mip'])"
   ]
  },
  {
   "cell_type": "code",
   "execution_count": 3,
   "metadata": {},
   "outputs": [
    {
     "name": "stdout",
     "output_type": "stream",
     "text": [
      "Using Python-MIP package version 1.13.0\n",
      "selected items: [0, 3]\n"
     ]
    }
   ],
   "source": [
    "from mip import Model, xsum, maximize, BINARY\n",
    "\n",
    "p = [10, 13, 18, 31, 7, 15]\n",
    "w = [11, 15, 20, 35, 10, 33]\n",
    "c, I = 47, range(len(w))\n",
    "\n",
    "m = Model(\"knapsack\")\n",
    "\n",
    "x = [m.add_var(var_type=BINARY) for i in I]\n",
    "\n",
    "m.objective = maximize(xsum(p[i] * x[i] for i in I))\n",
    "\n",
    "m += xsum(w[i] * x[i] for i in I) <= c\n",
    "\n",
    "m.optimize()\n",
    "\n",
    "selected = [i for i in I if x[i].x >= 0.99]\n",
    "print(\"selected items: {}\".format(selected))"
   ]
  },
  {
   "cell_type": "code",
   "execution_count": 26,
   "metadata": {},
   "outputs": [
    {
     "name": "stdout",
     "output_type": "stream",
     "text": [
      "Team k=2 has 57 points and will still relegate.Therefore a team is safe if it has at least 58 points\n",
      "0\n",
      "[2 3 3 3 3 3 3 3 3 3 3 3 3 3 3 3 3]\n",
      "[2 3 3 3 3 3 3 3 3 3 3 3 3 3 3 3 3]\n",
      "2\n",
      "1\n",
      "[2 3 3 3 3 3 3 3 3 3 3 3 3 3 3 3 3]\n",
      "[2 3 3 3 3 3 3 3 3 3 3 3 3 3 3 3 3]\n",
      "2\n",
      "2\n",
      "[1 1 1 3 1 3 1 1 1 1 1 3 3 3 1 1 3]\n",
      "[1 1 1 1 3 1 1 1 1 3 3 3 3 3 3 3 3]\n",
      "57\n",
      "3\n",
      "[1 1 3 1 3 1 1 1 1 3 3 1 1 1 3 3 1]\n",
      "[1 1 3 1 1 3 1 1 1 1 3 3 3 3 3 3 3]\n",
      "57\n",
      "4\n",
      "[1 1 3 3 1 3 3 1 3 1 1 1 1 3 3 3 3]\n",
      "[1 1 1 3 1 1 1 1 1 1 1 1 3 3 3 3 3]\n",
      "57\n",
      "5\n",
      "[1 1 1 3 3 1 3 3 1 1 3 3 3 1 1 3 3]\n",
      "[1 1 3 1 3 1 1 1 1 1 1 1 1 3 3 3 3]\n",
      "57\n",
      "6\n",
      "[1 1 3 1 3 3 3 3 3 1 1 1 1 1 3 3 3]\n",
      "[1 1 1 3 1 3 1 1 1 1 1 3 1 1 3 3 3]\n",
      "57\n",
      "7\n",
      "[1 1 3 3 3 3 3 1 3 3 1 3 3 3 3 1 1]\n",
      "[1 1 3 3 1 1 1 1 1 1 1 1 1 1 1 3 3]\n",
      "57\n",
      "8\n",
      "[1 1 3 3 3 3 3 3 1 1 3 1 1 1 1 3 3]\n",
      "[1 1 3 3 3 1 1 3 1 1 1 1 1 3 1 1 3]\n",
      "57\n",
      "9\n",
      "[1 1 3 3 3 3 3 3 3 1 1 3 1 3 3 1 1]\n",
      "[1 1 3 3 1 3 1 1 3 1 1 1 1 1 3 1 1]\n",
      "57\n",
      "10\n",
      "[1 1 1 3 3 3 3 3 3 3 1 1 3 1 1 3 1]\n",
      "[1 1 3 1 3 3 3 1 3 3 1 1 1 1 1 1 1]\n",
      "57\n",
      "11\n",
      "[1 1 1 1 3 3 3 3 3 3 3 1 3 1 1 1 3]\n",
      "[1 1 3 1 3 1 3 3 1 3 3 1 1 1 1 1 1]\n",
      "57\n",
      "12\n",
      "[1 1 1 1 3 3 1 3 3 3 3 3 1 3 3 1 1]\n",
      "[1 1 1 3 3 1 3 1 3 1 3 3 1 1 1 1 1]\n",
      "57\n",
      "13\n",
      "[1 1 1 1 1 3 3 3 3 3 3 3 3 1 1 1 3]\n",
      "[1 1 1 3 3 1 3 1 3 3 1 1 3 1 1 1 1]\n",
      "57\n",
      "14\n",
      "[1 1 1 1 1 1 3 3 1 3 3 3 3 3 1 3 1]\n",
      "[1 1 1 3 1 3 3 1 3 1 3 3 1 3 1 1 1]\n",
      "57\n",
      "15\n",
      "[1 1 1 1 1 1 1 3 3 1 3 3 3 3 3 1 3]\n",
      "[1 1 3 1 1 3 1 1 3 1 3 3 1 3 3 1 1]\n",
      "57\n",
      "16\n",
      "[1 1 1 1 1 1 1 1 3 3 3 3 3 3 3 3 1]\n",
      "[1 1 3 1 1 1 1 3 1 3 1 3 3 3 1 3 1]\n",
      "57\n",
      "17\n",
      "[1 1 1 1 1 1 1 1 1 3 3 3 3 3 3 3 3]\n",
      "[1 1 1 3 1 1 1 3 1 3 3 1 3 1 3 1 3]\n",
      "57\n"
     ]
    }
   ],
   "source": [
    "from mip import Model, xsum, maximize, BINARY\n",
    "\n",
    "nt = 18\n",
    "k  = 2\n",
    "\n",
    "m = Model(\"Sports League\")\n",
    "\n",
    "xw = []\n",
    "xd = []\n",
    "xl = []\n",
    "\n",
    "for i in range(nt):\n",
    "    xw.append([])\n",
    "    xd.append([])\n",
    "    xl.append([])\n",
    "    for j in range(nt):\n",
    "        if i!=j:\n",
    "            xw[i].append(m.add_var(var_type=BINARY))\n",
    "            xd[i].append(m.add_var(var_type=BINARY))\n",
    "            xl[i].append(m.add_var(var_type=BINARY))\n",
    "            m += (xw[i][j] + xd[i][j] + xl[i][j]) == 1\n",
    "        else:\n",
    "            xw[i].append([])\n",
    "            xd[i].append([])\n",
    "            xl[i].append([])\n",
    "\n",
    "for t in range(nt-1):\n",
    "    m +=    xsum( 3*xl[i][t]   + xd[i][t]   + \n",
    "                  3*xw[t][i]   + xd[t][i]  for i in range(nt) if i!=t) <=\\\n",
    "            xsum( 3*xl[i][t+1] + xd[i][t+1] + \n",
    "                  3*xw[t+1][i] + xd[t+1][i]  for i in range(nt) if i!=(t+1))\n",
    "\n",
    "m.objective = maximize(xsum( 3*xl[i][k] + xd[i][k] + \n",
    "                             3*xw[k][i] + xd[k][i]  for i in range(nt) if i!=k))\n",
    "m.optimize() \n",
    "\n",
    "pk = np.sum([3*int(xl[i][k].x) + int(xd[i][k].x) + \n",
    "           3*int(xw[k][i].x) + int(xd[k][i].x) for i in range(nt) if i!=k])\n",
    "\n",
    "print(\"Team k={} has {} points and will still relegate.\".format(k,pk)+\\\n",
    "      \"Therefore a team is safe if it has at least {} points\".format(pk+1))\n",
    "\n",
    "\n",
    "for t in range(nt):\n",
    "    team = [i for i in range(nt) if i!=t]\n",
    "    resow = [int(xl[i][t].x) for i in range(nt) if i!=t]\n",
    "    resod = [int(xd[i][t].x) for i in range(nt) if i!=t]\n",
    "    resol = [int(xw[i][t].x) for i in range(nt) if i!=t]\n",
    "    \n",
    "    reshw = [int(xw[t][i].x) for i in range(nt) if i!=t]\n",
    "    reshd = [int(xd[t][i].x) for i in range(nt) if i!=t]\n",
    "    reshl = [int(xl[t][i].x) for i in range(nt) if i!=t]\n",
    "    \n",
    "    resh = np.array([team, reshw, reshd, reshl])\n",
    "    reso = np.array([team, resow, resod, resol])\n",
    "    \n",
    "    pt =np.sum(3*resh[1,:])+np.sum(resh[2,:]) + np.sum(3*reso[1,:])+np.sum(reso[2,:]) \n",
    "    \n",
    "    resh[1] +=2*resh[2]+3*resh[3] \n",
    "    reso[1] +=2*reso[2]+3*reso[3] \n",
    "    print(t)\n",
    "    print(resh[1])\n",
    "    print(reso[1])\n",
    "    print(pt)"
   ]
  },
  {
   "cell_type": "code",
   "execution_count": null,
   "metadata": {},
   "outputs": [],
   "source": []
  },
  {
   "cell_type": "code",
   "execution_count": null,
   "metadata": {},
   "outputs": [],
   "source": []
  }
 ],
 "metadata": {
  "kernelspec": {
   "display_name": "Python 3",
   "language": "python",
   "name": "python3"
  },
  "language_info": {
   "codemirror_mode": {
    "name": "ipython",
    "version": 3
   },
   "file_extension": ".py",
   "mimetype": "text/x-python",
   "name": "python",
   "nbconvert_exporter": "python",
   "pygments_lexer": "ipython3",
   "version": "3.8.5"
  }
 },
 "nbformat": 4,
 "nbformat_minor": 5
}
