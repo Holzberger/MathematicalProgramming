{
 "cells": [
  {
   "cell_type": "markdown",
   "metadata": {},
   "source": [
    "# Draw initial Polyhedra"
   ]
  },
  {
   "cell_type": "code",
   "execution_count": 50,
   "metadata": {},
   "outputs": [],
   "source": [
    "import numpy as np\n",
    "from matplotlib import pyplot as plt\n",
    "import sympy as sym"
   ]
  },
  {
   "cell_type": "code",
   "execution_count": 51,
   "metadata": {},
   "outputs": [],
   "source": [
    "# use this function to return integer solutions\n",
    "def get_sols(x,y):\n",
    "    mask = np.logical_and(x>=0,y>=0)\n",
    "    mask = np.logical_and((2*x+3*y)<=10,mask)\n",
    "    mask = np.logical_and((-4*x+6*y)<=9,mask)\n",
    "    return mask"
   ]
  },
  {
   "cell_type": "code",
   "execution_count": 52,
   "metadata": {},
   "outputs": [],
   "source": [
    "# get our integer solutions from condidates\n",
    "x    = np.arange(6)\n",
    "X,Y  = np.meshgrid(x,x)\n",
    "mask = get_sols(X,Y)"
   ]
  },
  {
   "cell_type": "code",
   "execution_count": 53,
   "metadata": {},
   "outputs": [],
   "source": [
    "# plot integer solutions and all cutting planes\n",
    "def plot_polyhed(X_i, Y_i, x_curve, y_curve, col):\n",
    "    plt.plot(X_i,Y_i,\"o\",color=\"orange\")\n",
    "    for val in zip(x_curve,y_curve, col):\n",
    "        plt.plot(val[0], val[1],color=val[2],linewidth=1)"
   ]
  },
  {
   "cell_type": "code",
   "execution_count": 54,
   "metadata": {},
   "outputs": [],
   "source": [
    "# cuttiong planes and color\n",
    "x_curve = []\n",
    "y_curve = []\n",
    "col     = []"
   ]
  },
  {
   "cell_type": "code",
   "execution_count": 55,
   "metadata": {},
   "outputs": [],
   "source": [
    "x = np.linspace(-1,6,10)\n",
    "# x2>=0\n",
    "x_curve.append(x)\n",
    "y_curve.append(x*0)\n",
    "col.append(\"blue\")\n",
    "# x1>=0\n",
    "x_curve.append(x*0)\n",
    "y_curve.append(x)\n",
    "col.append(\"blue\")\n",
    "# 2x1+ 3x2 <=10\n",
    "x_curve.append(x)\n",
    "y_curve.append(10/3-2/3*x)\n",
    "col.append(\"blue\")\n",
    "# -4x1+ 6x2 <=9\n",
    "x_curve.append(x)\n",
    "y_curve.append(9/6+4/6*x)\n",
    "col.append(\"blue\")"
   ]
  },
  {
   "cell_type": "code",
   "execution_count": 56,
   "metadata": {},
   "outputs": [
    {
     "data": {
      "image/png": "[encoded data removed]",
      "text/plain": [
       "<Figure size 432x288 with 1 Axes>"
      ]
     },
     "metadata": {
      "needs_background": "light"
     },
     "output_type": "display_data"
    }
   ],
   "source": [
    "plot_polyhed(X[mask], Y[mask], x_curve, y_curve, col)"
   ]
  },
  {
   "cell_type": "markdown",
   "metadata": {},
   "source": [
    "Assume simplex method finds a fractional solution.\n",
    "Convert equations to standart form by adding slack variables $x_3, x_4$:\n",
    "\\begin{align}\n",
    "-4 x_1 + 6 x_2 +x_3 = 9\\\\\n",
    "2 x_1 + 3 x_2 +x_4 = 10\n",
    "\\end{align}\n",
    "We have $x_B=(x_1,x_2)$ and $x_N =(x_3,x_4)$. "
   ]
  },
  {
   "cell_type": "markdown",
   "metadata": {},
   "source": [
    "# Find next cutting plane:"
   ]
  },
  {
   "cell_type": "code",
   "execution_count": 57,
   "metadata": {},
   "outputs": [],
   "source": [
    "# A = (B, AN)\n",
    "B  = sym.Matrix(2, 2, [-4, 6, 2, 3])\n",
    "AN = sym.Matrix(2, 2, [1, 0, 0, 1])\n",
    "b  = sym.Matrix(2, 1, [9, 10])"
   ]
  },
  {
   "cell_type": "code",
   "execution_count": 58,
   "metadata": {},
   "outputs": [
    {
     "data": {
      "text/latex": [
       "$\\displaystyle \\left[\\begin{matrix}\\frac{11}{8}\\\\\\frac{29}{12}\\end{matrix}\\right]$"
      ],
      "text/plain": [
       "Matrix([\n",
       "[ 11/8],\n",
       "[29/12]])"
      ]
     },
     "execution_count": 58,
     "metadata": {},
     "output_type": "execute_result"
    }
   ],
   "source": [
    "# check for fractional solutions and generate inequalities by them\n",
    "BIb = B.inv()*b\n",
    "BIb"
   ]
  },
  {
   "cell_type": "markdown",
   "metadata": {},
   "source": [
    "This fractional solution is drawn as red dot in the plot below:"
   ]
  },
  {
   "cell_type": "code",
   "execution_count": 59,
   "metadata": {},
   "outputs": [
    {
     "data": {
      "text/plain": [
       "[<matplotlib.lines.Line2D at 0x7f64e6dad430>]"
      ]
     },
     "execution_count": 59,
     "metadata": {},
     "output_type": "execute_result"
    },
    {
     "data": {
      "image/png": "[encoded data removed]",
      "text/plain": [
       "<Figure size 432x288 with 1 Axes>"
      ]
     },
     "metadata": {
      "needs_background": "light"
     },
     "output_type": "display_data"
    }
   ],
   "source": [
    "plot_polyhed(X[mask], Y[mask], x_curve, y_curve, col)\n",
    "plt.plot(11/8,29/12,\"o\",color=\"red\")"
   ]
  },
  {
   "cell_type": "code",
   "execution_count": 60,
   "metadata": {},
   "outputs": [
    {
     "data": {
      "text/latex": [
       "$\\displaystyle \\left[\\begin{matrix}1\\\\2\\end{matrix}\\right]$"
      ],
      "text/plain": [
       "Matrix([\n",
       "[1],\n",
       "[2]])"
      ]
     },
     "execution_count": 60,
     "metadata": {},
     "output_type": "execute_result"
    }
   ],
   "source": [
    "BIb.applyfunc(lambda x: sym.floor(x))"
   ]
  },
  {
   "cell_type": "code",
   "execution_count": 61,
   "metadata": {},
   "outputs": [
    {
     "data": {
      "text/latex": [
       "$\\displaystyle \\left[\\begin{matrix}-1 & 0\\\\0 & 0\\end{matrix}\\right]$"
      ],
      "text/plain": [
       "Matrix([\n",
       "[-1, 0],\n",
       "[ 0, 0]])"
      ]
     },
     "execution_count": 61,
     "metadata": {},
     "output_type": "execute_result"
    }
   ],
   "source": [
    "BI = B.inv()*AN\n",
    "BI.applyfunc(lambda x: sym.floor(x))"
   ]
  },
  {
   "cell_type": "markdown",
   "metadata": {},
   "source": [
    "We have then the following inequalities:\n",
    "\\begin{align}\n",
    "x_1 - x_3 \\leq 1\\\\\n",
    "x_2 \\leq 2\\\\\n",
    "\\end{align}\n",
    "If we substitute the non-basic variables by aboves definition we get:\n",
    "\\begin{align}\n",
    "-3 x_1 +6x_2 \\leq 1\\\\\n",
    "x_2 \\leq 2\\\\\n",
    "\\end{align}\n",
    "Where we take the second inequality since the first one is redundant."
   ]
  },
  {
   "cell_type": "code",
   "execution_count": 62,
   "metadata": {},
   "outputs": [
    {
     "data": {
      "image/png": "[encoded data removed]",
      "text/plain": [
       "<Figure size 432x288 with 1 Axes>"
      ]
     },
     "metadata": {
      "needs_background": "light"
     },
     "output_type": "display_data"
    }
   ],
   "source": [
    "# Add new inequality to plot\n",
    "x_curve.append(x)\n",
    "y_curve.append(2+x*0)\n",
    "col.append(\"red\")\n",
    "\n",
    "plot_polyhed(X[mask], Y[mask], x_curve, y_curve, col)"
   ]
  },
  {
   "cell_type": "markdown",
   "metadata": {},
   "source": [
    "# Find next cutting plane:"
   ]
  },
  {
   "cell_type": "markdown",
   "metadata": {},
   "source": [
    "The standart formulation is now:\n",
    "\\begin{align}\n",
    "-4 x_1 + 6 x_2 +x_3 = 9\\\\\n",
    "2 x_1 + 3 x_2 +x_4 = 10\\\\\n",
    "x_2 + x_5 = 2\n",
    "\\end{align}\n",
    "Again assume the simplex method finds a fractional solution. Since we have three equations we need three basic variables. This time we take $x_1,x_2,x_4$ as basic variables."
   ]
  },
  {
   "cell_type": "code",
   "execution_count": 63,
   "metadata": {},
   "outputs": [
    {
     "data": {
      "text/latex": [
       "$\\displaystyle \\left[\\begin{matrix}-4 & 6 & 0\\\\2 & 3 & 1\\\\0 & 1 & 0\\end{matrix}\\right]$"
      ],
      "text/plain": [
       "Matrix([\n",
       "[-4, 6, 0],\n",
       "[ 2, 3, 1],\n",
       "[ 0, 1, 0]])"
      ]
     },
     "execution_count": 63,
     "metadata": {},
     "output_type": "execute_result"
    }
   ],
   "source": [
    "B  = sym.Matrix(3, 3, [-4, 6, 0, 2, 3, 1, 0, 1, 0])\n",
    "AN = sym.Matrix(3, 2, [1,0,0,0,0,1])\n",
    "b  = sym.Matrix(3, 1, [9, 10, 2])\n",
    "B"
   ]
  },
  {
   "cell_type": "code",
   "execution_count": 64,
   "metadata": {},
   "outputs": [
    {
     "data": {
      "text/latex": [
       "$\\displaystyle \\left[\\begin{matrix}\\frac{3}{4}\\\\2\\\\\\frac{5}{2}\\end{matrix}\\right]$"
      ],
      "text/plain": [
       "Matrix([\n",
       "[3/4],\n",
       "[  2],\n",
       "[5/2]])"
      ]
     },
     "execution_count": 64,
     "metadata": {},
     "output_type": "execute_result"
    }
   ],
   "source": [
    "# check for fractional solutions and generate inequalities by them\n",
    "BIb = B.inv()*b\n",
    "BIb"
   ]
  },
  {
   "cell_type": "markdown",
   "metadata": {},
   "source": [
    "The fractional solution is shown as red dot in the plot below:"
   ]
  },
  {
   "cell_type": "code",
   "execution_count": 65,
   "metadata": {},
   "outputs": [
    {
     "data": {
      "text/plain": [
       "[<matplotlib.lines.Line2D at 0x7f64e6d0ae20>]"
      ]
     },
     "execution_count": 65,
     "metadata": {},
     "output_type": "execute_result"
    },
    {
     "data": {
      "image/png": "[encoded data removed]",
      "text/plain": [
       "<Figure size 432x288 with 1 Axes>"
      ]
     },
     "metadata": {
      "needs_background": "light"
     },
     "output_type": "display_data"
    }
   ],
   "source": [
    "plot_polyhed(X[mask], Y[mask], x_curve, y_curve, col)\n",
    "plt.plot(3/4, 2,\"o\",color=\"red\")"
   ]
  },
  {
   "cell_type": "code",
   "execution_count": 66,
   "metadata": {},
   "outputs": [
    {
     "data": {
      "text/latex": [
       "$\\displaystyle \\left[\\begin{matrix}-1 & 1\\\\0 & 1\\\\0 & -6\\end{matrix}\\right]$"
      ],
      "text/plain": [
       "Matrix([\n",
       "[-1,  1],\n",
       "[ 0,  1],\n",
       "[ 0, -6]])"
      ]
     },
     "execution_count": 66,
     "metadata": {},
     "output_type": "execute_result"
    }
   ],
   "source": [
    "BI = B.inv()*AN\n",
    "BI.applyfunc(lambda x: sym.floor(x))"
   ]
  },
  {
   "cell_type": "code",
   "execution_count": 67,
   "metadata": {},
   "outputs": [
    {
     "data": {
      "text/latex": [
       "$\\displaystyle \\left[\\begin{matrix}0\\\\2\\\\2\\end{matrix}\\right]$"
      ],
      "text/plain": [
       "Matrix([\n",
       "[0],\n",
       "[2],\n",
       "[2]])"
      ]
     },
     "execution_count": 67,
     "metadata": {},
     "output_type": "execute_result"
    }
   ],
   "source": [
    "BIb.applyfunc(lambda x: sym.floor(x))"
   ]
  },
  {
   "cell_type": "markdown",
   "metadata": {},
   "source": [
    "We have then the following inequalities:\n",
    "\\begin{align}\n",
    "x_1 - x_3 \\leq 0\\\\\n",
    "x_4 -6x_5 \\leq 2\\\\\n",
    "\\end{align}\n",
    "If we substitute the non-basic variables $x_3,x_5$ by aboves definition we get:\n",
    "\\begin{align}\n",
    "-3x_1+5x_2 \\leq 7\\\\\n",
    "-2x_1+3x_2 \\leq 4\n",
    "\\end{align}\n",
    "Next we show the impact of the new inequalities in green and yellow:"
   ]
  },
  {
   "cell_type": "code",
   "execution_count": 68,
   "metadata": {},
   "outputs": [
    {
     "data": {
      "image/png": "[encoded data removed]",
      "text/plain": [
       "<Figure size 432x288 with 1 Axes>"
      ]
     },
     "metadata": {
      "needs_background": "light"
     },
     "output_type": "display_data"
    }
   ],
   "source": [
    "x_curve.append(x)\n",
    "y_curve.append(7/5+3/5*x)\n",
    "col.append(\"green\")\n",
    "\n",
    "x_curve.append(x)\n",
    "y_curve.append(4/3+2/3*x)\n",
    "col.append(\"black\")\n",
    "\n",
    "plot_polyhed(X[mask], Y[mask], x_curve, y_curve, col)"
   ]
  },
  {
   "cell_type": "markdown",
   "metadata": {},
   "source": [
    "Since the second inequality cuts of a bigger piece we take it and obtain the standart formulation:\n",
    "\\begin{align}\n",
    "2 x_1 + 3 x_2 +x_3 = 10\\\\\n",
    "x_2 + x_4 = 2\\\\\n",
    "-2x_1+3x_2 + x_5 = 4\n",
    "\\end{align}\n",
    "where the first equation from before became redundant and therefore we dont consider it anymore."
   ]
  },
  {
   "cell_type": "code",
   "execution_count": 69,
   "metadata": {},
   "outputs": [],
   "source": [
    "# delete planes that we dont consider anymore\n",
    "del x_curve[5]\n",
    "del y_curve[5]\n",
    "del col[5]\n",
    "del x_curve[3]\n",
    "del y_curve[3]\n",
    "del col[3]"
   ]
  },
  {
   "cell_type": "markdown",
   "metadata": {},
   "source": [
    "The current polyhedra is therefore:"
   ]
  },
  {
   "cell_type": "code",
   "execution_count": 71,
   "metadata": {
    "scrolled": true
   },
   "outputs": [
    {
     "data": {
      "image/png": "[encoded data removed]",
      "text/plain": [
       "<Figure size 432x288 with 1 Axes>"
      ]
     },
     "metadata": {
      "needs_background": "light"
     },
     "output_type": "display_data"
    }
   ],
   "source": [
    "plot_polyhed(X[mask], Y[mask], x_curve, y_curve, col)"
   ]
  },
  {
   "cell_type": "markdown",
   "metadata": {},
   "source": [
    "# Find next cutting plane:"
   ]
  },
  {
   "cell_type": "markdown",
   "metadata": {},
   "source": [
    "The simplex method can still find a fractional solution fractional. We get a fractional solution if we take $x_2,x_3,x_5$ as basic variables:"
   ]
  },
  {
   "cell_type": "code",
   "execution_count": 76,
   "metadata": {},
   "outputs": [
    {
     "data": {
      "text/latex": [
       "$\\displaystyle \\left[\\begin{matrix}3 & 1 & 0\\\\1 & 0 & 1\\\\3 & 0 & 0\\end{matrix}\\right]$"
      ],
      "text/plain": [
       "Matrix([\n",
       "[3, 1, 0],\n",
       "[1, 0, 1],\n",
       "[3, 0, 0]])"
      ]
     },
     "execution_count": 76,
     "metadata": {},
     "output_type": "execute_result"
    }
   ],
   "source": [
    "B  = sym.Matrix(3, 3, [3, 1, 0, \n",
    "                       1, 0, 1, \n",
    "                       3, 0, 0])\n",
    "AN = sym.Matrix(3, 2, [2,0,\n",
    "                       0,0,\n",
    "                      -2,1])\n",
    "\n",
    "b  = sym.Matrix(3, 1, [10, 2, 4])\n",
    "B"
   ]
  },
  {
   "cell_type": "code",
   "execution_count": 77,
   "metadata": {},
   "outputs": [
    {
     "data": {
      "text/latex": [
       "$\\displaystyle \\left[\\begin{matrix}\\frac{4}{3}\\\\6\\\\\\frac{2}{3}\\end{matrix}\\right]$"
      ],
      "text/plain": [
       "Matrix([\n",
       "[4/3],\n",
       "[  6],\n",
       "[2/3]])"
      ]
     },
     "execution_count": 77,
     "metadata": {},
     "output_type": "execute_result"
    }
   ],
   "source": [
    "# check for fractional solutions and generate inequalities by them\n",
    "BIb = B.inv()*b\n",
    "BIb"
   ]
  },
  {
   "cell_type": "markdown",
   "metadata": {},
   "source": [
    "This solution corresponds to the red point drawn below (note $x_1=0$) :"
   ]
  },
  {
   "cell_type": "code",
   "execution_count": 78,
   "metadata": {},
   "outputs": [
    {
     "data": {
      "text/plain": [
       "[<matplotlib.lines.Line2D at 0x7f64e6cad070>]"
      ]
     },
     "execution_count": 78,
     "metadata": {},
     "output_type": "execute_result"
    },
    {
     "data": {
      "image/png": "[encoded data removed]",
      "text/plain": [
       "<Figure size 432x288 with 1 Axes>"
      ]
     },
     "metadata": {
      "needs_background": "light"
     },
     "output_type": "display_data"
    }
   ],
   "source": [
    "plot_polyhed(X[mask], Y[mask], x_curve, y_curve, col)\n",
    "plt.plot(0, 4/3,\"o\",color=\"red\")"
   ]
  },
  {
   "cell_type": "code",
   "execution_count": 79,
   "metadata": {},
   "outputs": [
    {
     "data": {
      "text/latex": [
       "$\\displaystyle \\left[\\begin{matrix}-1 & 0\\\\4 & -1\\\\0 & -1\\end{matrix}\\right]$"
      ],
      "text/plain": [
       "Matrix([\n",
       "[-1,  0],\n",
       "[ 4, -1],\n",
       "[ 0, -1]])"
      ]
     },
     "execution_count": 79,
     "metadata": {},
     "output_type": "execute_result"
    }
   ],
   "source": [
    "BI = B.inv()*AN\n",
    "BI.applyfunc(lambda x: sym.floor(x))"
   ]
  },
  {
   "cell_type": "code",
   "execution_count": 80,
   "metadata": {},
   "outputs": [
    {
     "data": {
      "text/latex": [
       "$\\displaystyle \\left[\\begin{matrix}1\\\\6\\\\0\\end{matrix}\\right]$"
      ],
      "text/plain": [
       "Matrix([\n",
       "[1],\n",
       "[6],\n",
       "[0]])"
      ]
     },
     "execution_count": 80,
     "metadata": {},
     "output_type": "execute_result"
    }
   ],
   "source": [
    "BIb.applyfunc(lambda x: sym.floor(x))"
   ]
  },
  {
   "cell_type": "markdown",
   "metadata": {},
   "source": [
    "We just need to consder the first inequality that gives:\n",
    "\\begin{align}\n",
    "x_2 - x_1 \\leq 1\n",
    "\\end{align}\n",
    "If we draw the cutting plane that corresponds to this equation in cyan we get:"
   ]
  },
  {
   "cell_type": "code",
   "execution_count": 81,
   "metadata": {},
   "outputs": [
    {
     "data": {
      "image/png": "[encoded data removed]",
      "text/plain": [
       "<Figure size 432x288 with 1 Axes>"
      ]
     },
     "metadata": {
      "needs_background": "light"
     },
     "output_type": "display_data"
    }
   ],
   "source": [
    "x_curve.append(x)\n",
    "y_curve.append(1+x)\n",
    "col.append(\"cyan\")\n",
    "\n",
    "plot_polyhed(X[mask], Y[mask], x_curve, y_curve, col)"
   ]
  },
  {
   "cell_type": "markdown",
   "metadata": {},
   "source": [
    "The cutting plane in black from before is now redundant and we see that the convex hull of our polyhedra is given by:\n",
    "\\begin{align}\n",
    "2 x_1 + 3 x_2 \\leq 10\\\\\n",
    "x_2 \\leq 2\\\\\n",
    "x_2 - x_1 \\leq 1\\\\\n",
    "x_1,x_2 \\geq 0\n",
    "\\end{align}"
   ]
  },
  {
   "cell_type": "code",
   "execution_count": 82,
   "metadata": {},
   "outputs": [
    {
     "data": {
      "image/png": "[encoded data removed]",
      "text/plain": [
       "<Figure size 432x288 with 1 Axes>"
      ]
     },
     "metadata": {
      "needs_background": "light"
     },
     "output_type": "display_data"
    }
   ],
   "source": [
    "del x_curve[-2]\n",
    "del y_curve[-2]\n",
    "del col[-2]\n",
    "plot_polyhed(X[mask], Y[mask], x_curve, y_curve, col)"
   ]
  },
  {
   "cell_type": "markdown",
   "metadata": {},
   "source": [
    "# Minimum Covers"
   ]
  },
  {
   "cell_type": "code",
   "execution_count": 118,
   "metadata": {},
   "outputs": [
    {
     "name": "stdout",
     "output_type": "stream",
     "text": [
      "[[ 0  0  0  0  0  0  0]\n",
      " [ 0  0  0  0  0  1  3]\n",
      " [ 0  0  0  0  1  0  5]\n",
      " [ 0  0  0  0  1  1  8]\n",
      " [ 0  0  0  1  0  0  5]\n",
      " [ 0  0  0  1  0  1  8]\n",
      " [ 0  0  0  1  1  0 10]\n",
      " [ 0  0  0  1  1  1 13]\n",
      " [ 0  0  1  0  0  0  7]\n",
      " [ 0  0  1  0  0  1 10]\n",
      " [ 0  0  1  0  1  0 12]\n",
      " [ 0  0  1  1  0  0 12]\n",
      " [ 0  1  0  0  0  0  9]\n",
      " [ 0  1  0  0  0  1 12]\n",
      " [ 0  1  0  0  1  0 14]\n",
      " [ 0  1  0  1  0  0 14]\n",
      " [ 1  0  0  0  0  0 12]]\n"
     ]
    }
   ],
   "source": [
    "# plot list of variables with constraint value lower than 15\n",
    "weights = np.array([12,9,7,5,5,3],dtype=\"int\")\n",
    "values  = np.unpackbits( np.arange(2**6, dtype=\"uint8\") ).reshape(-1,8)[:,2:]\n",
    "value_weights = np.sum(values*weights, axis=1)[:,None]\n",
    "selection_list = np.concatenate((values, value_weights), axis=1)\n",
    "# remove entries that exeed 14:\n",
    "selection_list = selection_list[selection_list[:,-1]<=14]\n",
    "print(selection_list)"
   ]
  },
  {
   "cell_type": "markdown",
   "metadata": {},
   "source": [
    "**i)**\n",
    "A minimum cover for our Knapsack is for example $C=\\{2,4,6\\}$ with the cover inequality:\n",
    "\\begin{align}\n",
    "x_2+x_4+x_6 \\leq 2\n",
    "\\end{align}\n",
    "**ii)**\n",
    "To extend C we see that $\\{j: a_j\\geq a_i\\forall i\\in C\\}=\\{1\\}$. Therefore the extended cover is given by E(C)=\\{1,2,4,6\\} and has the inequality:\n",
    "\\begin{align}\n",
    "x_1 +x_2 +x_4+x_6 \\leq 2\n",
    "\\end{align}\n",
    "**iii)**\n",
    "Consider again $C=\\{2,4,6\\}$. For the first lifting coefficient we have the inequality:\n",
    "\\begin{align}\n",
    "\\alpha_1 x_1 +x_2 +x_4+x_6 \\leq 2\n",
    "\\end{align}\n",
    "Which is clearly fulfilled if $x_1=0$ and for $x_1=1$ we get the new Knapsack problem:\n",
    "\\begin{align}\n",
    "\\max x_2 + x_4+x_6\\\\\n",
    "\\text{ s.t } 9x_2+ 5x_4 + 3x_6 \\leq 14-12=2\n",
    "\\end{align}\n",
    "We can easily see that $\\max x_2 + x_4+x_6 =0$ and therefore $\\alpha_1 =2$ resulting in the inequality:\n",
    "\\begin{align}\n",
    "2 x_1 +x_2 +x_4+x_6 \\leq 2\n",
    "\\end{align}\n",
    "We continue to calculate the next lifting coefficient:\n",
    "\\begin{align}\n",
    "2 x_1 +x_2 + \\alpha_3 x_3 +x_4+x_6 \\leq 2\n",
    "\\end{align}\n",
    "Again this inequality is valid for $x_3=0$ and for $x_3=1$ we solve the Knapsack:\n",
    "\\begin{align}\n",
    "\\max 2 x_1 +x_2 +x_4+x_6\\\\\n",
    "\\text{ s.t } 12x_1 + 9x_2+ 5x_4 + 3x_6 \\leq 14-7=7\n",
    "\\end{align}\n",
    "The solution has $\\max 2 x_1 +x_2 +x_4+x_6=1$ such that $\\alpha_3=1$ and the lifted inequality is:\n",
    "\\begin{align}\n",
    "2 x_1 +x_2 + x_3 +x_4+x_6 \\leq 2\n",
    "\\end{align}\n",
    "For the calculation of the last lifting coefficient we have the inequality:\n",
    "\\begin{align}\n",
    "2 x_1 +x_2 + x_3 +x_4+ \\alpha_5 x_5+x_6 \\leq 2\n",
    "\\end{align}\n",
    "The inequality is valid for $x_5=0$.\n",
    "When setting $x_5=1$ the Knapsack for the sub-problem is:\n",
    "\\begin{align}\n",
    "\\max 2 x_1 +x_2 + x_3 +x_4+x_6\\\\\n",
    "\\text{ s.t } 12x_1 + 9x_2+ 7x_3+ 5x_4 + 3x_6 \\leq 14-5=9\n",
    "\\end{align}\n",
    "Now $\\max 2 x_1 +x_2 + x_3 +x_4+x_6 =2$ since we can set $x_4=1,x_6=1$. Therefore $\\alpha_5=0$ and the final lifted inequality is given by :\n",
    "\\begin{align}\n",
    "2 x_1 +x_2 + x_3 +x_4+x_6 \\leq 2\n",
    "\\end{align}"
   ]
  },
  {
   "cell_type": "markdown",
   "metadata": {},
   "source": [
    "# Total Unimodularity"
   ]
  },
  {
   "cell_type": "markdown",
   "metadata": {},
   "source": [
    "**i) The node-edge incidence matrix of all simple, undirected graphs is totally unimodular** \n",
    "This is not true. Consider the counterexample:\n",
    "\\begin{align} A_1 = \n",
    "\\left[ \\begin{array}{rrr}\n",
    "0 & 1 & 1 \\\\ \n",
    "1 & 0 & 1 \\\\\n",
    "1 & 1 & 0 \\\\ \n",
    "\\end{array}\\right]\n",
    "\\end{align}\n",
    "here we have $det(A_1)=2$ and therefore $A_1$ is not totally unimodular.\n",
    "\n",
    "**ii) The node-arc incidence matrix of all bipartite, directed, simple, graphs is totally unimodular.** \n",
    "This is true since each column has exactly a $1$ and $-1$ and all other entries in a column are $0$.\n",
    "Therefore each row has at most two non-zero coefficients and if we have the partition $M_1=V$, $M_2= \\emptyset$. By that we will have for any $j$ that $\\sum\\limits_{i\\in M_1} u_{i,j}-\\sum\\limits_{i\\in M_2} u_{i,j} = 1-1 + 0=0$."
   ]
  },
  {
   "cell_type": "code",
   "execution_count": null,
   "metadata": {},
   "outputs": [],
   "source": []
  }
 ],
 "metadata": {
  "kernelspec": {
   "display_name": "Python 3",
   "language": "python",
   "name": "python3"
  },
  "language_info": {
   "codemirror_mode": {
    "name": "ipython",
    "version": 3
   },
   "file_extension": ".py",
   "mimetype": "text/x-python",
   "name": "python",
   "nbconvert_exporter": "python",
   "pygments_lexer": "ipython3",
   "version": "3.8.5"
  }
 },
 "nbformat": 4,
 "nbformat_minor": 4
}
